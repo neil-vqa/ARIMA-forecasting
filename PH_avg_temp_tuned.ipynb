{
  "nbformat": 4,
  "nbformat_minor": 0,
  "metadata": {
    "colab": {
      "name": "tuned_PH_avg_temp.ipynb",
      "version": "0.3.2",
      "provenance": [],
      "collapsed_sections": [],
      "include_colab_link": true
    },
    "kernelspec": {
      "name": "python3",
      "display_name": "Python 3"
    },
    "accelerator": "GPU"
  },
  "cells": [
    {
      "cell_type": "markdown",
      "metadata": {
        "id": "view-in-github",
        "colab_type": "text"
      },
      "source": [
        "<a href=\"https://colab.research.google.com/github/neil-vqa/ARIMA-forecasting/blob/master/tuned_PH_avg_temp.ipynb\" target=\"_parent\"><img src=\"https://colab.research.google.com/assets/colab-badge.svg\" alt=\"Open In Colab\"/></a>"
      ]
    },
    {
      "cell_type": "code",
      "metadata": {
        "id": "BcR55LsDRB-R",
        "colab_type": "code",
        "colab": {}
      },
      "source": [
        "import pandas as pd\n",
        "import matplotlib.pyplot as plt\n",
        "from statsmodels.tsa.arima_model import ARIMA\n",
        "import numpy as np\n",
        "import itertools\n",
        "import warnings"
      ],
      "execution_count": 0,
      "outputs": []
    },
    {
      "cell_type": "code",
      "metadata": {
        "id": "EyHd9awkUkQN",
        "colab_type": "code",
        "colab": {
          "resources": {
            "http://localhost:8080/nbextensions/google.colab/files.js": {
              "data": "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",
              "ok": true,
              "headers": [
                [
                  "content-type",
                  "application/javascript"
                ]
              ],
              "status": 200,
              "status_text": "OK"
            }
          },
          "base_uri": "https://localhost:8080/",
          "height": 77
        },
        "outputId": "20fe5482-760b-406d-e68f-2ae040fe932a"
      },
      "source": [
        "from google.colab import files\n",
        "uploaded = files.upload()"
      ],
      "execution_count": 3,
      "outputs": [
        {
          "output_type": "display_data",
          "data": {
            "text/html": [
              "\n",
              "     <input type=\"file\" id=\"files-303fbad1-0353-4f45-b2d6-a4cc60d965f3\" name=\"files[]\" multiple disabled />\n",
              "     <output id=\"result-303fbad1-0353-4f45-b2d6-a4cc60d965f3\">\n",
              "      Upload widget is only available when the cell has been executed in the\n",
              "      current browser session. Please rerun this cell to enable.\n",
              "      </output>\n",
              "      <script src=\"/nbextensions/google.colab/files.js\"></script> "
            ],
            "text/plain": [
              "<IPython.core.display.HTML object>"
            ]
          },
          "metadata": {
            "tags": []
          }
        },
        {
          "output_type": "stream",
          "text": [
            "Saving ph_tas.csv to ph_tas.csv\n"
          ],
          "name": "stdout"
        }
      ]
    },
    {
      "cell_type": "code",
      "metadata": {
        "id": "6lHvZ2E1UkZA",
        "colab_type": "code",
        "colab": {}
      },
      "source": [
        "warnings.filterwarnings('ignore')"
      ],
      "execution_count": 0,
      "outputs": []
    },
    {
      "cell_type": "code",
      "metadata": {
        "id": "SDq1N9aXUkuY",
        "colab_type": "code",
        "colab": {}
      },
      "source": [
        "data = pd.read_csv('ph_tas.csv')\n",
        "data_play = data['Temperature - (Celsius)']\n",
        "tempr_data = data_play[:-100]\n",
        "input = tempr_data.values"
      ],
      "execution_count": 0,
      "outputs": []
    },
    {
      "cell_type": "code",
      "metadata": {
        "id": "seiHNv6NUk32",
        "colab_type": "code",
        "colab": {
          "base_uri": "https://localhost:8080/",
          "height": 3055
        },
        "outputId": "bc620d00-b9a1-4fd4-b5d6-77b095be403f"
      },
      "source": [
        "p=q=d=range(0,9)\n",
        "pdq = list(itertools.product(p,d,q))\n",
        "\n",
        "for param in pdq:\n",
        "    try:\n",
        "        model_arima = ARIMA(input, order=param)\n",
        "        model_fit = model_arima.fit()\n",
        "        print(param, model_fit.aic)\n",
        "    except:\n",
        "        continue"
      ],
      "execution_count": 6,
      "outputs": [
        {
          "output_type": "stream",
          "text": [
            "(0, 0, 0) 3239.269284891281\n",
            "(0, 0, 1) 2473.144743699995\n",
            "(0, 0, 3) 2031.5655531510708\n",
            "(0, 0, 4) 2027.1045609170928\n",
            "(0, 0, 5) 2018.7963585774644\n",
            "(0, 0, 6) 2010.3558353995502\n",
            "(0, 0, 7) 1997.4365046527248\n",
            "(0, 1, 0) 2472.1014527043376\n",
            "(0, 1, 1) 2415.8348304150995\n",
            "(0, 1, 2) 2407.6559676883144\n",
            "(0, 1, 3) 2079.5790315115514\n",
            "(0, 1, 4) 2008.7449519907875\n",
            "(0, 1, 5) 2008.1418984699421\n",
            "(0, 1, 6) 1986.9610668363955\n",
            "(0, 1, 7) 1956.174225508467\n",
            "(0, 2, 0) 3066.167117943911\n",
            "(0, 2, 1) 2480.3514592354477\n",
            "(0, 2, 2) 2423.756846363365\n",
            "(0, 2, 3) 2415.263581888388\n",
            "(1, 0, 0) 2283.7271002814277\n",
            "(1, 0, 1) 2155.1779527413564\n",
            "(1, 0, 2) 2048.5271163124007\n",
            "(1, 0, 3) 2030.467593224472\n",
            "(1, 0, 4) 2031.1133087685164\n",
            "(1, 0, 5) 2007.9040135312177\n",
            "(1, 0, 6) 2005.1208462709487\n",
            "(1, 0, 7) 1958.911596921764\n",
            "(1, 0, 8) 1923.279508038483\n",
            "(1, 1, 0) 2418.534113962209\n",
            "(1, 1, 2) 2138.51018858031\n",
            "(1, 1, 4) 2009.7219101931735\n",
            "(1, 1, 5) 2005.039983787666\n",
            "(1, 1, 6) 1944.3819966332005\n",
            "(1, 1, 7) 1938.1151538683985\n",
            "(1, 1, 8) 1928.179919013943\n",
            "(1, 2, 0) 2920.7411386719405\n",
            "(1, 2, 2) 2424.456068913852\n",
            "(2, 0, 0) 2062.071519203553\n",
            "(2, 0, 1) 2036.6731046352581\n",
            "(2, 0, 2) 2005.121883933167\n",
            "(2, 0, 3) 2006.861145556228\n",
            "(2, 0, 4) 1714.5427031889117\n",
            "(2, 0, 5) 1712.6977587781566\n",
            "(2, 0, 6) 1703.0099248379597\n",
            "(2, 0, 7) 1701.529251365178\n",
            "(2, 0, 8) 1582.3410818987472\n",
            "(2, 1, 0) 2404.393229519065\n",
            "(2, 1, 3) 1967.459592845687\n",
            "(2, 1, 4) 1942.1089465971033\n",
            "(2, 1, 6) 1781.3912372989892\n",
            "(2, 1, 7) 1684.3877912862406\n",
            "(2, 1, 8) 1639.3231408326697\n",
            "(2, 2, 0) 2907.5998619591874\n",
            "(2, 2, 2) 2039.024998393718\n",
            "(2, 2, 4) 1998.7062878734985\n",
            "(3, 0, 0) 2024.1292925866599\n",
            "(3, 0, 1) 2014.0282861907385\n",
            "(3, 0, 2) 1838.7129909213668\n",
            "(3, 0, 3) 2005.6621749632382\n",
            "(3, 0, 4) 1722.0147616243764\n",
            "(3, 0, 5) 1711.5174373410664\n",
            "(3, 0, 6) 1705.630299371741\n",
            "(3, 0, 7) 1697.7419812948688\n",
            "(3, 0, 8) 1517.9850978904933\n",
            "(3, 1, 0) 2253.7159820179986\n",
            "(3, 1, 2) 1989.5763357323176\n",
            "(3, 1, 3) 1827.6118643450384\n",
            "(3, 1, 4) 1823.2162058147496\n",
            "(3, 1, 5) 1734.7103572991618\n",
            "(3, 1, 6) 1721.0176456033776\n",
            "(3, 1, 7) 1656.9071591735294\n",
            "(3, 1, 8) 1643.383638086608\n",
            "(3, 2, 0) 2770.4184349737457\n",
            "(3, 2, 3) 2009.7849218654087\n",
            "(4, 0, 0) 2012.5445716812367\n",
            "(4, 0, 1) 1970.545296509175\n",
            "(4, 0, 2) 1748.7489775204951\n",
            "(4, 0, 3) 1665.9777400043058\n",
            "(4, 0, 4) 1470.4407768984552\n",
            "(4, 0, 5) 1376.5323395037667\n",
            "(4, 0, 6) 1280.2972386904253\n",
            "(4, 0, 7) 1248.9687734024428\n",
            "(4, 0, 8) 1233.2699607770492\n",
            "(4, 1, 0) 2233.2496724741172\n",
            "(4, 1, 3) 1773.3990122275288\n",
            "(4, 1, 4) 1588.3664124805955\n",
            "(4, 1, 6) 1321.4150621940648\n",
            "(4, 1, 7) 1539.0714501383077\n",
            "(4, 1, 8) nan\n",
            "(4, 2, 0) 2636.2353642386515\n",
            "(4, 2, 2) 1977.8076671158356\n",
            "(4, 2, 3) 1992.6850006864663\n",
            "(5, 0, 0) 2011.1489679364392\n",
            "(5, 0, 1) 1969.7034355939045\n",
            "(5, 0, 2) 1687.4421168495708\n",
            "(5, 0, 3) 1584.1038945249784\n",
            "(5, 0, 4) 1228.002418462917\n",
            "(5, 0, 6) 1226.19498183706\n",
            "(5, 0, 8) nan\n",
            "(5, 1, 0) 2233.382606741473\n",
            "(5, 1, 3) 1423.203509914158\n",
            "(5, 1, 5) 1162.384649255217\n",
            "(5, 1, 6) 1158.5997980438078\n",
            "(5, 1, 7) 1158.1948123892344\n",
            "(5, 2, 0) 2572.1916294660577\n",
            "(5, 2, 2) 1983.1801648330666\n",
            "(5, 2, 3) 2020.4291692344316\n",
            "(6, 0, 0) 1985.2382519887287\n",
            "(6, 0, 1) 1956.7468156346436\n",
            "(6, 0, 2) 1580.664084344995\n",
            "(6, 0, 3) 1571.1323548260739\n",
            "(6, 0, 4) 1136.7220089315865\n",
            "(6, 0, 6) 1329.9767284330483\n",
            "(6, 0, 7) 1286.5466159738312\n",
            "(6, 0, 8) 1242.1108279598384\n",
            "(6, 1, 0) 2230.209443656175\n",
            "(6, 1, 3) 1383.8974113364825\n",
            "(6, 1, 4) 1182.2709116713859\n",
            "(6, 1, 5) 1115.4915753896244\n",
            "(6, 1, 6) 1084.9545113997174\n",
            "(6, 1, 7) 1086.4328898781146\n",
            "(6, 1, 8) 1094.3271209696018\n",
            "(6, 2, 0) 2570.237308489194\n",
            "(6, 2, 2) 1908.963533220796\n",
            "(6, 2, 3) 1976.9991389505096\n",
            "(7, 0, 0) 1961.988098381372\n",
            "(7, 0, 1) 1891.42785770192\n",
            "(7, 0, 2) 1553.388446258578\n",
            "(7, 0, 3) 1359.3858769676858\n",
            "(7, 0, 4) 1115.0196892044564\n",
            "(7, 0, 5) 1111.1357709810522\n",
            "(7, 0, 6) 1123.915544665124\n",
            "(7, 0, 8) 1077.5771760800344\n",
            "(7, 1, 0) 2160.285127455485\n",
            "(7, 1, 3) 1387.9336349778519\n",
            "(7, 1, 4) 1115.4423561277727\n",
            "(7, 1, 5) 1167.4670204043264\n",
            "(7, 1, 7) 1065.3553008126764\n",
            "(7, 1, 8) 1068.5814624848535\n",
            "(7, 2, 0) 2572.218921758683\n",
            "(7, 2, 2) 1802.9997434917202\n",
            "(8, 0, 0) 1960.4094380199986\n",
            "(8, 0, 1) 1755.7831535962837\n",
            "(8, 0, 2) 1329.291963116129\n",
            "(8, 0, 3) 1330.8673489023577\n",
            "(8, 0, 4) 1062.821788629214\n",
            "(8, 0, 5) 1086.465554847604\n",
            "(8, 0, 6) 1079.5019159296176\n",
            "(8, 0, 7) 1048.4238501448035\n",
            "(8, 0, 8) 1056.7898563608037\n",
            "(8, 1, 0) 1971.6448089601108\n",
            "(8, 1, 1) 1622.3544247100554\n",
            "(8, 1, 2) 1367.7656534302046\n",
            "(8, 1, 3) 1293.0599423494791\n",
            "(8, 1, 4) 1132.7631218300621\n",
            "(8, 1, 5) 1110.7909096153903\n",
            "(8, 2, 0) 2561.9808592803565\n",
            "(8, 2, 2) 1658.7232587776516\n",
            "(8, 2, 3) 1386.9366438569696\n",
            "(8, 2, 7) 1219.9956979418348\n",
            "(8, 2, 8) 1255.2193036268222\n"
          ],
          "name": "stdout"
        }
      ]
    },
    {
      "cell_type": "markdown",
      "metadata": {
        "id": "e0cksn5Mijk_",
        "colab_type": "text"
      },
      "source": [
        "404, 405, 408, 506, 517, 604, 616, 708, 717, 804, 807"
      ]
    },
    {
      "cell_type": "code",
      "metadata": {
        "id": "qu2lQKaxUlST",
        "colab_type": "code",
        "colab": {}
      },
      "source": [
        "model_arima = ARIMA(input, order=(8,0,7))\n",
        "model_fit = model_arima.fit()"
      ],
      "execution_count": 0,
      "outputs": []
    },
    {
      "cell_type": "code",
      "metadata": {
        "id": "sNPNsH5bUkWG",
        "colab_type": "code",
        "colab": {}
      },
      "source": [
        "predictions = model_fit.forecast(steps=12)\n",
        "preds = predictions[0]"
      ],
      "execution_count": 0,
      "outputs": []
    },
    {
      "cell_type": "code",
      "metadata": {
        "id": "Yr8WoG-CUkFf",
        "colab_type": "code",
        "colab": {
          "base_uri": "https://localhost:8080/",
          "height": 243
        },
        "outputId": "0a51d059-fb81-44a9-a24a-163d120cbbe1"
      },
      "source": [
        "for pred in preds:\n",
        "    print(pred)"
      ],
      "execution_count": 9,
      "outputs": [
        {
          "output_type": "stream",
          "text": [
            "25.706987333574677\n",
            "25.65746524270071\n",
            "25.327506142839418\n",
            "24.761622731665238\n",
            "24.422017795258007\n",
            "24.732935306294056\n",
            "25.504467147246277\n",
            "26.33841438078918\n",
            "26.558768972189533\n",
            "26.31456324578876\n",
            "25.773338334755767\n",
            "25.59862529182822\n"
          ],
          "name": "stdout"
        }
      ]
    },
    {
      "cell_type": "code",
      "metadata": {
        "id": "6EVKO81Yi95C",
        "colab_type": "code",
        "colab": {}
      },
      "source": [
        "temp_series = np.array(data_play[-100:-76])"
      ],
      "execution_count": 0,
      "outputs": []
    },
    {
      "cell_type": "code",
      "metadata": {
        "id": "3srlxvFBi-GU",
        "colab_type": "code",
        "colab": {
          "base_uri": "https://localhost:8080/",
          "height": 460
        },
        "outputId": "43557434-2e7c-4841-dee9-75c43b0a1d90"
      },
      "source": [
        "plt.figure(figsize=(12,5), dpi=100)\n",
        "plt.plot(preds, label='Forecast')\n",
        "plt.plot(temp_series, color='green', label='Actual')\n",
        "plt.title('Forecast for Average Monthly Temperature')\n",
        "plt.legend(loc='upper left')\n",
        "plt.ylabel('Temperature, deg C')\n",
        "plt.show()"
      ],
      "execution_count": 14,
      "outputs": [
        {
          "output_type": "display_data",
          "data": {
            "image/png": "[encoded data removed]",
            "text/plain": [
              "<Figure size 1200x500 with 1 Axes>"
            ]
          },
          "metadata": {
            "tags": []
          }
        }
      ]
    },
    {
      "cell_type": "code",
      "metadata": {
        "id": "-znAODNUmRka",
        "colab_type": "code",
        "colab": {
          "base_uri": "https://localhost:8080/",
          "height": 36
        },
        "outputId": "310f0f61-0cba-4c5c-e068-8ef6fec3a0f9"
      },
      "source": [
        "mape = np.mean(np.abs(preds - temp_series[:12])/np.abs(temp_series[:12]))\n",
        "mape"
      ],
      "execution_count": 17,
      "outputs": [
        {
          "output_type": "execute_result",
          "data": {
            "text/plain": [
              "0.013668486736248974"
            ]
          },
          "metadata": {
            "tags": []
          },
          "execution_count": 17
        }
      ]
    },
    {
      "cell_type": "code",
      "metadata": {
        "id": "xFOIv2mNmjcx",
        "colab_type": "code",
        "colab": {
          "base_uri": "https://localhost:8080/",
          "height": 36
        },
        "outputId": "ab6df815-e530-489c-b8bc-fa53ea433124"
      },
      "source": [
        "accuracy = (1 - mape)*100\n",
        "accuracy"
      ],
      "execution_count": 18,
      "outputs": [
        {
          "output_type": "execute_result",
          "data": {
            "text/plain": [
              "98.6331513263751"
            ]
          },
          "metadata": {
            "tags": []
          },
          "execution_count": 18
        }
      ]
    },
    {
      "cell_type": "code",
      "metadata": {
        "id": "LC5bYM1LnNaN",
        "colab_type": "code",
        "colab": {
          "base_uri": "https://localhost:8080/",
          "height": 36
        },
        "outputId": "aa7d6ee5-db11-41c5-ba81-c660bc05143b"
      },
      "source": [
        "corr = np.corrcoef(preds, temp_series[:12])[0,1]\n",
        "corr"
      ],
      "execution_count": 20,
      "outputs": [
        {
          "output_type": "execute_result",
          "data": {
            "text/plain": [
              "0.8373047987685014"
            ]
          },
          "metadata": {
            "tags": []
          },
          "execution_count": 20
        }
      ]
    }
  ]
}
