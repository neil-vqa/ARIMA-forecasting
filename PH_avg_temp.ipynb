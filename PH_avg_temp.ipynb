{
 "cells": [
  {
   "cell_type": "markdown",
   "metadata": {},
   "source": [
    "# ARIMA Forecasting\n",
    "\n",
    "This is a study and basic implementation of ARIMA multi-step forecasting. The dataset used is split into training and testing sets. Parameters used for the ARIMA are not tuned, and metrics for studying the model are not defined (tuning and evaluating a model will be done for another study). Lastly, it can be observed that the further the forecast step is, the inaccuracy largely increases.\n"
   ]
  },
  {
   "cell_type": "code",
   "execution_count": 1,
   "metadata": {},
   "outputs": [],
   "source": [
    "import pandas as pd\n",
    "import matplotlib.pyplot as plt\n",
    "from statsmodels.tsa.arima_model import ARIMA\n",
    "import numpy as np"
   ]
  },
  {
   "cell_type": "markdown",
   "metadata": {},
   "source": [
    "# Data Preparation"
   ]
  },
  {
   "cell_type": "code",
   "execution_count": 2,
   "metadata": {},
   "outputs": [
    {
     "data": {
      "text/html": [
       "<div>\n",
       "<style scoped>\n",
       "    .dataframe tbody tr th:only-of-type {\n",
       "        vertical-align: middle;\n",
       "    }\n",
       "\n",
       "    .dataframe tbody tr th {\n",
       "        vertical-align: top;\n",
       "    }\n",
       "\n",
       "    .dataframe thead th {\n",
       "        text-align: right;\n",
       "    }\n",
       "</style>\n",
       "<table border=\"1\" class=\"dataframe\">\n",
       "  <thead>\n",
       "    <tr style=\"text-align: right;\">\n",
       "      <th></th>\n",
       "      <th>Temperature - (Celsius)</th>\n",
       "      <th>Year</th>\n",
       "      <th>Month</th>\n",
       "      <th>Country</th>\n",
       "      <th>ISO3</th>\n",
       "    </tr>\n",
       "  </thead>\n",
       "  <tbody>\n",
       "    <tr>\n",
       "      <th>0</th>\n",
       "      <td>25.5699</td>\n",
       "      <td>1901</td>\n",
       "      <td>Jan</td>\n",
       "      <td>Philippines</td>\n",
       "      <td>PHL</td>\n",
       "    </tr>\n",
       "    <tr>\n",
       "      <th>1</th>\n",
       "      <td>24.1451</td>\n",
       "      <td>1901</td>\n",
       "      <td>Feb</td>\n",
       "      <td>Philippines</td>\n",
       "      <td>PHL</td>\n",
       "    </tr>\n",
       "    <tr>\n",
       "      <th>2</th>\n",
       "      <td>25.4436</td>\n",
       "      <td>1901</td>\n",
       "      <td>Mar</td>\n",
       "      <td>Philippines</td>\n",
       "      <td>PHL</td>\n",
       "    </tr>\n",
       "    <tr>\n",
       "      <th>3</th>\n",
       "      <td>27.0414</td>\n",
       "      <td>1901</td>\n",
       "      <td>Apr</td>\n",
       "      <td>Philippines</td>\n",
       "      <td>PHL</td>\n",
       "    </tr>\n",
       "    <tr>\n",
       "      <th>4</th>\n",
       "      <td>27.4015</td>\n",
       "      <td>1901</td>\n",
       "      <td>May</td>\n",
       "      <td>Philippines</td>\n",
       "      <td>PHL</td>\n",
       "    </tr>\n",
       "  </tbody>\n",
       "</table>\n",
       "</div>"
      ],
      "text/plain": [
       "   Temperature - (Celsius)   Year  Month       Country  ISO3\n",
       "0                  25.5699   1901    Jan   Philippines   PHL\n",
       "1                  24.1451   1901    Feb   Philippines   PHL\n",
       "2                  25.4436   1901    Mar   Philippines   PHL\n",
       "3                  27.0414   1901    Apr   Philippines   PHL\n",
       "4                  27.4015   1901    May   Philippines   PHL"
      ]
     },
     "execution_count": 2,
     "metadata": {},
     "output_type": "execute_result"
    }
   ],
   "source": [
    "data = pd.read_csv('ph_tas.csv')\n",
    "data.head()"
   ]
  },
  {
   "cell_type": "code",
   "execution_count": 3,
   "metadata": {
    "scrolled": true
   },
   "outputs": [
    {
     "data": {
      "text/plain": [
       "1392"
      ]
     },
     "execution_count": 3,
     "metadata": {},
     "output_type": "execute_result"
    }
   ],
   "source": [
    "data_play = data['Temperature - (Celsius)']\n",
    "len(data_play)"
   ]
  },
  {
   "cell_type": "markdown",
   "metadata": {},
   "source": [
    "Training set"
   ]
  },
  {
   "cell_type": "code",
   "execution_count": 4,
   "metadata": {},
   "outputs": [
    {
     "data": {
      "text/plain": [
       "1292"
      ]
     },
     "execution_count": 4,
     "metadata": {},
     "output_type": "execute_result"
    }
   ],
   "source": [
    "tempr_data = data_play[:-100]\n",
    "len(tempr_data)"
   ]
  },
  {
   "cell_type": "code",
   "execution_count": 5,
   "metadata": {},
   "outputs": [
    {
     "data": {
      "text/plain": [
       "<matplotlib.axes._subplots.AxesSubplot at 0x273abf5a9b0>"
      ]
     },
     "execution_count": 5,
     "metadata": {},
     "output_type": "execute_result"
    },
    {
     "data": {
      "image/png": "[encoded data removed]",
      "text/plain": [
       "<Figure size 432x288 with 1 Axes>"
      ]
     },
     "metadata": {
      "needs_background": "light"
     },
     "output_type": "display_data"
    }
   ],
   "source": [
    "tempr_data.plot()"
   ]
  },
  {
   "cell_type": "code",
   "execution_count": 6,
   "metadata": {},
   "outputs": [
    {
     "data": {
      "text/plain": [
       "1287    26.4157\n",
       "1288    26.0644\n",
       "1289    26.1525\n",
       "1290    26.0829\n",
       "1291    25.7532\n",
       "Name: Temperature - (Celsius), dtype: float64"
      ]
     },
     "execution_count": 6,
     "metadata": {},
     "output_type": "execute_result"
    }
   ],
   "source": [
    "tempr_data.tail()"
   ]
  },
  {
   "cell_type": "code",
   "execution_count": 7,
   "metadata": {},
   "outputs": [],
   "source": [
    "input = tempr_data.values"
   ]
  },
  {
   "cell_type": "markdown",
   "metadata": {},
   "source": [
    "# ARIMA forecast"
   ]
  },
  {
   "cell_type": "code",
   "execution_count": 8,
   "metadata": {},
   "outputs": [
    {
     "name": "stderr",
     "output_type": "stream",
     "text": [
      "c:\\users\\neo\\appdata\\local\\programs\\python\\python37\\lib\\site-packages\\statsmodels\\base\\model.py:488: HessianInversionWarning: Inverting hessian failed, no bse or cov_params available\n",
      "  'available', HessianInversionWarning)\n"
     ]
    }
   ],
   "source": [
    "model_arima = ARIMA(input, order=(5,1,7))\n",
    "model_fit = model_arima.fit()"
   ]
  },
  {
   "cell_type": "code",
   "execution_count": 9,
   "metadata": {},
   "outputs": [
    {
     "data": {
      "text/plain": [
       "(array([25.78299171, 25.79375677, 25.57767411, 25.16876509, 24.90359515,\n",
       "        25.10097778, 25.73085503, 26.40164029, 26.68918717, 26.49446622,\n",
       "        26.09080154, 25.8289354 ]),\n",
       " array([0.37396517, 0.42192701, 0.44089037, 0.4442992 , 0.44466287,\n",
       "        0.4448912 , 0.44544761, 0.4458379 , 0.4458386 , 0.44597735,\n",
       "        0.44599673, 0.44824565]),\n",
       " array([[25.05003345, 26.51594998],\n",
       "        [24.96679503, 26.62071851],\n",
       "        [24.71354487, 26.44180335],\n",
       "        [24.29795466, 26.03957551],\n",
       "        [24.03207194, 25.77511836],\n",
       "        [24.22900705, 25.97294851],\n",
       "        [24.85779376, 26.60391631],\n",
       "        [25.52781406, 27.27546651],\n",
       "        [25.81535957, 27.56301477],\n",
       "        [25.62036667, 27.36856576],\n",
       "        [25.21666401, 26.96493907],\n",
       "        [24.95039007, 26.70748073]]))"
      ]
     },
     "execution_count": 9,
     "metadata": {},
     "output_type": "execute_result"
    }
   ],
   "source": [
    "predictions = model_fit.forecast(steps=12)\n",
    "predictions"
   ]
  },
  {
   "cell_type": "code",
   "execution_count": 10,
   "metadata": {},
   "outputs": [],
   "source": [
    "preds = predictions[0]"
   ]
  },
  {
   "cell_type": "code",
   "execution_count": 11,
   "metadata": {},
   "outputs": [
    {
     "name": "stdout",
     "output_type": "stream",
     "text": [
      "25.782991714606446\n",
      "25.793756769694692\n",
      "25.577674111784162\n",
      "25.168765089624824\n",
      "24.903595150925888\n",
      "25.100977782962385\n",
      "25.73085503433342\n",
      "26.401640285592674\n",
      "26.68918716948529\n",
      "26.4944662190579\n",
      "26.09080153962373\n",
      "25.828935398966742\n"
     ]
    }
   ],
   "source": [
    "for pred in preds:\n",
    "    print(pred)"
   ]
  },
  {
   "cell_type": "markdown",
   "metadata": {},
   "source": [
    "# Plotting"
   ]
  },
  {
   "cell_type": "markdown",
   "metadata": {},
   "source": [
    "Testing set"
   ]
  },
  {
   "cell_type": "code",
   "execution_count": 12,
   "metadata": {},
   "outputs": [
    {
     "data": {
      "text/plain": [
       "array([26.0891, 25.9654, 25.6959, 25.0161, 24.1465, 25.174 , 26.114 ,\n",
       "       26.1847, 26.4238, 25.8999, 25.6978, 26.4123, 25.9734, 25.6722,\n",
       "       25.495 , 24.5257, 24.4225, 25.2749, 26.3652, 26.4783, 27.0725,\n",
       "       27.0885, 26.1774, 26.0448])"
      ]
     },
     "execution_count": 12,
     "metadata": {},
     "output_type": "execute_result"
    }
   ],
   "source": [
    "temp_series = np.array(data_play[-100:-76])\n",
    "temp_series"
   ]
  },
  {
   "cell_type": "markdown",
   "metadata": {},
   "source": [
    "Plot of 'testing' vs 'forecast'"
   ]
  },
  {
   "cell_type": "code",
   "execution_count": 13,
   "metadata": {},
   "outputs": [
    {
     "data": {
      "image/png": "[encoded data removed]",
      "text/plain": [
       "<Figure size 432x288 with 1 Axes>"
      ]
     },
     "metadata": {
      "needs_background": "light"
     },
     "output_type": "display_data"
    }
   ],
   "source": [
    "plt.plot(preds, label='Forecast')\n",
    "plt.plot(temp_series, color='green', label='Actual')\n",
    "plt.title('Forecast for Average Monthly Temperature')\n",
    "plt.legend(loc='upper left')\n",
    "plt.ylabel('Temperature, deg C')\n",
    "plt.show()"
   ]
  }
 ],
 "metadata": {
  "kernelspec": {
   "display_name": "Python 3",
   "language": "python",
   "name": "python3"
  },
  "language_info": {
   "codemirror_mode": {
    "name": "ipython",
    "version": 3
   },
   "file_extension": ".py",
   "mimetype": "text/x-python",
   "name": "python",
   "nbconvert_exporter": "python",
   "pygments_lexer": "ipython3",
   "version": "3.7.3"
  }
 },
 "nbformat": 4,
 "nbformat_minor": 2
}
